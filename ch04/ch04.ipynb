{
 "cells": [
  {
   "cell_type": "code",
   "execution_count": 4,
   "metadata": {
    "metadata": {}
   },
   "outputs": [],
   "source": [
    "import math"
   ]
  },
  {
   "cell_type": "code",
   "execution_count": null,
   "metadata": {},
   "outputs": [],
   "source": [
    "def composite_simpson(f, a, b, n):\n",
    "    if n % 2 == 1:\n",
    "        raise ValueError('n must be even')\n",
    "    \n",
    "    h = (b-a) /n\n",
    "    x = a\n",
    "    s = f(a) + f(b)\n",
    "\n",
    "    for i in range(1, n):\n",
    "        x += h\n",
    "        if i % 2 == 0:\n",
    "            s += 2 * f(x)\n",
    "        else:\n",
    "            s += 4 * f(x)\n",
    "\n",
    "    return (h/3) * s"
   ]
  },
  {
   "cell_type": "code",
   "execution_count": 20,
   "metadata": {
    "metadata": {}
   },
   "outputs": [
    {
     "data": {
      "text/plain": [
       "-0.009999666687215525"
      ]
     },
     "execution_count": 20,
     "metadata": {},
     "output_type": "execute_result"
    }
   ],
   "source": [
    "f = lambda x: 1 / (1 + x **2)\n",
    "\n",
    "r = composite_simpson(f, 0 ,100, 900)\n",
    "r-math.pi/2"
   ]
  },
  {
   "cell_type": "code",
   "execution_count": 5,
   "metadata": {
    "metadata": {}
   },
   "outputs": [
    {
     "data": {
      "text/plain": [
       "-9.912644483023314e-09"
      ]
     },
     "execution_count": 5,
     "metadata": {},
     "output_type": "execute_result"
    }
   ],
   "source": []
  },
  {
   "cell_type": "code",
   "execution_count": 24,
   "metadata": {
    "metadata": {}
   },
   "outputs": [],
   "source": [
    "class MaxPointLimitExceeded(Exception):\n",
    "    pass\n",
    "\n",
    "def simpson_rule(f, a, b):\n",
    "    return (b - a) / 6.0 * (f(a) + 4.0 * f((a+b)/2.0) + f(b))\n",
    "\n",
    "def adaptive_quadrature(f, a, b, tol=1e-6, NMAX=1000000):\n",
    "\n",
    "    sampling_points = set([a,b])\n",
    "\n",
    "    def recursive_quadrature(f, a, b, tol, whole):\n",
    "        if len(sampling_points) > NMAX:\n",
    "            raise MaxPointLimitExceeded(f\"Exceeded maximum number of points: {NMAX}\")\n",
    "        c = (a + b) / 2.0\n",
    "        left = simpson_rule(f, a, c)\n",
    "        right = simpson_rule(f, c, b)\n",
    "        sampling_points.update([c,(a+c)/2,(c+b)/2])\n",
    "        if abs(left+right-whole) < 15*tol:\n",
    "            return left+right\n",
    "        else:\n",
    "            return recursive_quadrature(f,a,c,tol,left) + recursive_quadrature(f,c,b,tol,right)\n",
    "        \n",
    "    whole = simpson_rule(f, a, b)\n",
    "    result = recursive_quadrature(f,a,b,tol,whole)\n",
    "    sampling_points = sorted(sampling_points)\n",
    "    return result, sampling_points"
   ]
  },
  {
   "cell_type": "code",
   "execution_count": 25,
   "metadata": {
    "metadata": {}
   },
   "outputs": [
    {
     "name": "stdout",
     "output_type": "stream",
     "text": [
      "1.5608008359433225\n",
      "89\n"
     ]
    }
   ],
   "source": [
    "result, points = adaptive_quadrature(f,0,100)\n",
    "print(result)\n",
    "print(len(points))"
   ]
  },
  {
   "cell_type": "code",
   "execution_count": 27,
   "metadata": {
    "metadata": {}
   },
   "outputs": [],
   "source": [
    "import numpy as np\n",
    "from scipy.special import roots_legendre"
   ]
  },
  {
   "cell_type": "code",
   "execution_count": 28,
   "metadata": {
    "metadata": {}
   },
   "outputs": [],
   "source": [
    "def gaussian_legendre_quadrature(f, a, b, n):\n",
    "\n",
    "    x, w = roots_legendre(n)\n",
    "\n",
    "    t = 0.5 * (x + 1) * (b - a) + a\n",
    "    ft = f(t)\n",
    "    result = 0.5 * (b - a) * np.sum(w * ft)\n",
    "\n",
    "    return result"
   ]
  },
  {
   "cell_type": "code",
   "execution_count": 39,
   "metadata": {
    "metadata": {}
   },
   "outputs": [
    {
     "data": {
      "text/plain": [
       "2.0000001102844727"
      ]
     },
     "execution_count": 39,
     "metadata": {},
     "output_type": "execute_result"
    }
   ],
   "source": [
    "r = gaussian_legendre_quadrature(np.sin,0,np.pi,5)\n",
    "r"
   ]
  },
  {
   "cell_type": "code",
   "execution_count": null,
   "metadata": {},
   "outputs": [],
   "source": []
  }
 ],
 "metadata": {
  "kernelspec": {
   "display_name": "Python 3",
   "language": "python",
   "name": "python3"
  },
  "language_info": {
   "codemirror_mode": {
    "name": "ipython",
    "version": 3
   },
   "file_extension": ".py",
   "mimetype": "text/x-python",
   "name": "python",
   "nbconvert_exporter": "python",
   "pygments_lexer": "ipython3",
   "version": "3.10.12"
  }
 },
 "nbformat": 4,
 "nbformat_minor": 2
}
