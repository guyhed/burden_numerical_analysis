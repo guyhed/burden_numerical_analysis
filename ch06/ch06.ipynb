{
 "cells": [
  {
   "cell_type": "code",
   "execution_count": 1,
   "metadata": {},
   "outputs": [],
   "source": [
    "import numpy as np"
   ]
  },
  {
   "cell_type": "code",
   "execution_count": 34,
   "metadata": {},
   "outputs": [],
   "source": [
    "A = np.array([[3, 2, -4],\n",
    "              [2, 3, 3],\n",
    "              [5, -3, 1]], dtype=float)"
   ]
  },
  {
   "cell_type": "code",
   "execution_count": 35,
   "metadata": {},
   "outputs": [],
   "source": [
    "b = np.array([3, 15, 14], dtype=float)"
   ]
  },
  {
   "cell_type": "code",
   "execution_count": 25,
   "metadata": {},
   "outputs": [
    {
     "data": {
      "text/plain": [
       "array([4., 3., 5.])"
      ]
     },
     "execution_count": 25,
     "metadata": {},
     "output_type": "execute_result"
    }
   ],
   "source": [
    "scale_factors = np.max(np.abs(A), axis=1)\n",
    "scale_factors"
   ]
  },
  {
   "cell_type": "code",
   "execution_count": 9,
   "metadata": {},
   "outputs": [
    {
     "data": {
      "text/plain": [
       "array([[ 0.08219178,  0.06849315,  0.12328767],\n",
       "       [ 0.0890411 ,  0.15753425, -0.11643836],\n",
       "       [-0.14383562,  0.13013699,  0.03424658]])"
      ]
     },
     "execution_count": 9,
     "metadata": {},
     "output_type": "execute_result"
    }
   ],
   "source": [
    "B"
   ]
  },
  {
   "cell_type": "code",
   "execution_count": 28,
   "metadata": {},
   "outputs": [],
   "source": [
    "def gaussian_partial_pivoting(A, b):\n",
    "\n",
    "    n = len(b)\n",
    "\n",
    "    indices = np.arange(n)\n",
    "\n",
    "    for i in range(n):\n",
    "        max_row = np.argmax( np.abs(  A[ indices[i:] ,i] )) + i\n",
    "        if A[ indices[max_row] ,i] == 0:\n",
    "            raise ValueError(\"A is singulr or nearly singular\")\n",
    "        \n",
    "        if max_row != i:\n",
    "            indices[ [i, max_row]] = indices[ [max_row, i] ]\n",
    "        \n",
    "        for j in range(i+1,n):\n",
    "            factor = A[indices[j],i] / A[indices[i], i]\n",
    "            A[indices[j], i:] -= factor * A[indices[i], i:]\n",
    "            b[indices[j]] -= factor * b[indices[i]]\n",
    "\n",
    "    x = np.zeros(n)\n",
    "    for i in range(n-1, -1, -1):\n",
    "        x[i] = (b[indices[i]] - A[indices[i], i+1:] @ x[i+1:]) / A[indices[i],i]\n",
    "\n",
    "    return x"
   ]
  },
  {
   "cell_type": "code",
   "execution_count": 29,
   "metadata": {},
   "outputs": [
    {
     "data": {
      "text/plain": [
       "array([3., 1., 2.])"
      ]
     },
     "execution_count": 29,
     "metadata": {},
     "output_type": "execute_result"
    }
   ],
   "source": [
    "gaussian_partial_pivoting(A, b)"
   ]
  },
  {
   "cell_type": "code",
   "execution_count": 32,
   "metadata": {},
   "outputs": [],
   "source": [
    "def gaussian_partial_scaled_pivoting(A, b):\n",
    "\n",
    "    n = len(b)\n",
    "\n",
    "    indices = np.arange(n)\n",
    "\n",
    "    scale_factors = np.max(np.abs(A), axis=1)\n",
    "\n",
    "    for i in range(n):\n",
    "        max_row = np.argmax( np.abs(  A[ indices[i:] ,i] ) / scale_factors[indices[i:]] ) + i\n",
    "        if A[ indices[max_row] ,i] == 0:\n",
    "            raise ValueError(\"A is singulr or nearly singular\")\n",
    "        \n",
    "        if max_row != i:\n",
    "            indices[ [i, max_row]] = indices[ [max_row, i] ]\n",
    "        \n",
    "        for j in range(i+1,n):\n",
    "            factor = A[indices[j],i] / A[indices[i], i]\n",
    "            A[indices[j], i:] -= factor * A[indices[i], i:]\n",
    "            b[indices[j]] -= factor * b[indices[i]]\n",
    "\n",
    "        print(A[indices, :])\n",
    "        \n",
    "    x = np.zeros(n)\n",
    "    for i in range(n-1, -1, -1):\n",
    "        x[i] = (b[indices[i]] - A[indices[i], i+1:] @ x[i+1:]) / A[indices[i],i]\n",
    "\n",
    "    return x"
   ]
  },
  {
   "cell_type": "code",
   "execution_count": 36,
   "metadata": {},
   "outputs": [
    {
     "name": "stdout",
     "output_type": "stream",
     "text": [
      "[[ 5.  -3.   1. ]\n",
      " [ 0.   4.2  2.6]\n",
      " [ 0.   3.8 -4.6]]\n",
      "[[ 5.         -3.          1.        ]\n",
      " [ 0.          4.2         2.6       ]\n",
      " [ 0.          0.         -6.95238095]]\n",
      "[[ 5.         -3.          1.        ]\n",
      " [ 0.          4.2         2.6       ]\n",
      " [ 0.          0.         -6.95238095]]\n"
     ]
    },
    {
     "data": {
      "text/plain": [
       "array([3., 1., 2.])"
      ]
     },
     "execution_count": 36,
     "metadata": {},
     "output_type": "execute_result"
    }
   ],
   "source": [
    "gaussian_partial_scaled_pivoting(A,b)"
   ]
  },
  {
   "cell_type": "code",
   "execution_count": 49,
   "metadata": {},
   "outputs": [],
   "source": [
    "A = np.exp(5 * np.random.rand(50,50))\n",
    "b = np.random.rand(50)\n"
   ]
  },
  {
   "cell_type": "code",
   "execution_count": 52,
   "metadata": {},
   "outputs": [
    {
     "data": {
      "text/plain": [
       "array([ 8.67361738e-18,  5.20417043e-17, -6.24500451e-17,  0.00000000e+00,\n",
       "       -5.72458747e-17, -5.55111512e-17, -1.21430643e-16,  2.39391840e-16,\n",
       "        5.55111512e-17, -2.77555756e-16, -6.93889390e-18,  2.91433544e-16,\n",
       "        7.45931095e-17,  1.06034972e-16,  6.59194921e-17,  1.19695920e-16,\n",
       "       -1.38777878e-16, -2.01227923e-16,  1.59594560e-16,  1.00613962e-16,\n",
       "        1.94289029e-16, -2.08166817e-17, -3.93023288e-18,  2.08166817e-17,\n",
       "       -3.46944695e-17,  1.90819582e-17, -7.63278329e-17,  5.20417043e-17,\n",
       "       -5.89805982e-17, -7.63278329e-17, -1.31838984e-16, -4.85722573e-17,\n",
       "       -5.55111512e-17, -2.90566182e-17,  4.16333634e-17,  1.52655666e-16,\n",
       "       -2.15105711e-16,  4.64038530e-17,  4.59701721e-17, -1.23165367e-16,\n",
       "        5.20417043e-18, -1.07552856e-16,  4.16333634e-17, -1.24900090e-16,\n",
       "       -2.77555756e-17,  1.73472348e-16, -5.50774704e-17,  3.46944695e-18,\n",
       "        4.85722573e-17,  5.20417043e-18])"
      ]
     },
     "execution_count": 52,
     "metadata": {},
     "output_type": "execute_result"
    }
   ],
   "source": [
    "gaussian_partial_pivoting(A.copy(),b.copy()) - np.linalg.solve(A,b)"
   ]
  },
  {
   "cell_type": "code",
   "execution_count": 53,
   "metadata": {},
   "outputs": [
    {
     "data": {
      "text/plain": [
       "(50, 50)"
      ]
     },
     "execution_count": 53,
     "metadata": {},
     "output_type": "execute_result"
    }
   ],
   "source": [
    "A.shape"
   ]
  },
  {
   "cell_type": "code",
   "execution_count": 61,
   "metadata": {},
   "outputs": [],
   "source": [
    "def inverse_by_gaussian(A):\n",
    "    n = A.shape[0]\n",
    "\n",
    "    AI = np.hstack((A , np.eye(n, dtype=float)))\n",
    "\n",
    "    for i in range(n):\n",
    "        max_row = np.argmax( np.abs( AI[i:,i])) + i\n",
    "        if AI[max_row, i] == 0:\n",
    "            raise ValueError(\"A is nearly singular\")\n",
    "        \n",
    "        if max_row != i:\n",
    "            AI[[i,max_row]] = AI[[max_row,i]]\n",
    "\n",
    "        AI[i] = AI[i] / AI[i,i]\n",
    "\n",
    "        for j in range(n):\n",
    "            if j != i:\n",
    "                AI[j] -= AI[j,i] * AI[i]\n",
    "\n",
    "    return AI[:,n:]\n",
    "\n",
    "\n",
    "        \n",
    "    "
   ]
  },
  {
   "cell_type": "code",
   "execution_count": 70,
   "metadata": {},
   "outputs": [],
   "source": [
    "A = np.array([[3, 2, -4],\n",
    "              [2, 3, 3],\n",
    "              [5, -3, 1]], dtype=float)"
   ]
  },
  {
   "cell_type": "code",
   "execution_count": 56,
   "metadata": {},
   "outputs": [
    {
     "data": {
      "text/plain": [
       "array([[ 0.08219178,  0.06849315,  0.12328767],\n",
       "       [ 0.0890411 ,  0.15753425, -0.11643836],\n",
       "       [-0.14383562,  0.13013699,  0.03424658]])"
      ]
     },
     "execution_count": 56,
     "metadata": {},
     "output_type": "execute_result"
    }
   ],
   "source": [
    "np.linalg.inv(A)"
   ]
  },
  {
   "cell_type": "code",
   "execution_count": 62,
   "metadata": {},
   "outputs": [
    {
     "data": {
      "text/plain": [
       "array([[ 0.08219178,  0.06849315,  0.12328767],\n",
       "       [ 0.0890411 ,  0.15753425, -0.11643836],\n",
       "       [-0.14383562,  0.13013699,  0.03424658]])"
      ]
     },
     "execution_count": 62,
     "metadata": {},
     "output_type": "execute_result"
    }
   ],
   "source": [
    "inverse_by_gaussian(A)"
   ]
  },
  {
   "cell_type": "code",
   "execution_count": 67,
   "metadata": {},
   "outputs": [],
   "source": [
    "def determinant(A):\n",
    "    n = A.shape[0]\n",
    "\n",
    "    det = 1.\n",
    "\n",
    "    for i in range(n):\n",
    "        max_row = np.argmax( np.abs( A[i:,i])) + i\n",
    "        if A[max_row, i] == 0:\n",
    "            raise ValueError(\"A is nearly singular\")\n",
    "        \n",
    "        if max_row != i:\n",
    "            A[[i,max_row]] = A[[max_row,i]]\n",
    "            det *= -1\n",
    "\n",
    "        for j in range(i+1,n):\n",
    "            A[j,i:] -= (A[j,i]/A[i,i]) * A[i,i:]\n",
    "\n",
    "    for i in range(n):\n",
    "        det *= A[i,i]\n",
    "\n",
    "    return det"
   ]
  },
  {
   "cell_type": "code",
   "execution_count": 72,
   "metadata": {},
   "outputs": [
    {
     "data": {
      "text/plain": [
       "146.0"
      ]
     },
     "execution_count": 72,
     "metadata": {},
     "output_type": "execute_result"
    }
   ],
   "source": [
    "np.linalg.det(A)"
   ]
  },
  {
   "cell_type": "code",
   "execution_count": 71,
   "metadata": {},
   "outputs": [
    {
     "data": {
      "text/plain": [
       "-2.842170943040401e-14"
      ]
     },
     "execution_count": 71,
     "metadata": {},
     "output_type": "execute_result"
    }
   ],
   "source": [
    "determinant(A.copy()) - np.linalg.det(A)"
   ]
  },
  {
   "cell_type": "code",
   "execution_count": null,
   "metadata": {},
   "outputs": [],
   "source": []
  }
 ],
 "metadata": {
  "kernelspec": {
   "display_name": "Python 3",
   "language": "python",
   "name": "python3"
  },
  "language_info": {
   "codemirror_mode": {
    "name": "ipython",
    "version": 3
   },
   "file_extension": ".py",
   "mimetype": "text/x-python",
   "name": "python",
   "nbconvert_exporter": "python",
   "pygments_lexer": "ipython3",
   "version": "3.10.12"
  }
 },
 "nbformat": 4,
 "nbformat_minor": 2
}
