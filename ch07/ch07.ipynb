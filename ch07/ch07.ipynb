{
 "cells": [
  {
   "cell_type": "code",
   "execution_count": 1,
   "metadata": {},
   "outputs": [],
   "source": [
    "import numpy as np"
   ]
  },
  {
   "cell_type": "code",
   "execution_count": 10,
   "metadata": {},
   "outputs": [],
   "source": [
    "def gauss_seidel(A, b, x0, tol=1e-10, max_iter=10000):\n",
    "    n = A.shape[0]\n",
    "    x = x0.copy()\n",
    "\n",
    "    for k in range(max_iter):\n",
    "        x_prev = x.copy()\n",
    "\n",
    "        for i in range(n):\n",
    "            sum1 = A[i,:i] @ x[:i]\n",
    "            sum2 = A[i, i+1:] @ x_prev[i+1:]\n",
    "            x[i] = (b[i] - sum1 -sum2) / A[i,i]\n",
    "        print(k, \"e:\",np.linalg.norm(x-x_prev, ord=np.inf))\n",
    "\n",
    "        if np.linalg.norm(x-x_prev, ord=np.inf) < tol:\n",
    "            return x\n",
    "        \n",
    "    raise(\"did not converge\")\n"
   ]
  },
  {
   "cell_type": "code",
   "execution_count": 30,
   "metadata": {},
   "outputs": [
    {
     "name": "stdout",
     "output_type": "stream",
     "text": [
      "0 e: 1.0\n",
      "1 e: 0.4\n",
      "2 e: 0.07999999999999996\n",
      "3 e: 0.016000000000000014\n",
      "4 e: 0.0031999999999999806\n",
      "5 e: 0.0006400000000000849\n",
      "6 e: 0.00012799999999990597\n",
      "7 e: 2.560000000007001e-05\n",
      "8 e: 5.119999999969593e-06\n",
      "9 e: 1.0240000000161231e-06\n",
      "10 e: 2.047999999588157e-07\n",
      "11 e: 4.096000005837652e-08\n",
      "12 e: 8.191999967266383e-09\n",
      "13 e: 1.6383999712488162e-09\n",
      "14 e: 3.2767999424976324e-10\n",
      "15 e: 6.553602105441314e-11\n",
      "Solution: [0.5 1.  0.5]\n"
     ]
    }
   ],
   "source": [
    "A = np.array([[4.0, 1.0, 2.0], [3.0, 5.0, 1.0], [1.0, 1.0, 3.0]])\n",
    "b = np.array([4.0, 7.0, 3.0])\n",
    "x0 = np.array([0.0, 0.0, 0.0])\n",
    "\n",
    "x = gauss_seidel(A, b, x0)\n",
    "print(\"Solution:\", x)"
   ]
  },
  {
   "cell_type": "code",
   "execution_count": 16,
   "metadata": {},
   "outputs": [
    {
     "data": {
      "text/plain": [
       "3.7502340558396106"
      ]
     },
     "execution_count": 16,
     "metadata": {},
     "output_type": "execute_result"
    }
   ],
   "source": [
    "np.linalg.cond(A, 2)"
   ]
  },
  {
   "cell_type": "code",
   "execution_count": 17,
   "metadata": {},
   "outputs": [],
   "source": [
    "def round_to_n_significant_digits(arr, n):\n",
    "    arr_rounded = arr.copy()\n",
    "    it = np.nditer(arr_rounded, flags=['multi_index'], op_flags=['readwrite'])\n",
    "    while not it.finished:\n",
    "        val = it[0]\n",
    "        if val != 0:\n",
    "            it[0] = np.round(val, -int(np.floor(np.log10(np.abs(val)))) + (n - 1))\n",
    "        it.iternext()\n",
    "\n",
    "    return arr_rounded"
   ]
  },
  {
   "cell_type": "code",
   "execution_count": 34,
   "metadata": {},
   "outputs": [],
   "source": [
    "r3 = lambda x: round_to_n_significant_digits(x,3)"
   ]
  },
  {
   "cell_type": "code",
   "execution_count": 33,
   "metadata": {},
   "outputs": [],
   "source": [
    "def iterative_refinement_r3(A, b, tol=1e-10, max_iter=100):\n",
    "\n",
    "    x = r3(np.linalg.solve(A, b))\n",
    "\n",
    "    for i in range(max_iter):        \n",
    "        r = b - A @ x            \n",
    "        \n",
    "        Delta_x = r3(np.linalg.solve(A, r))\n",
    "        \n",
    "        print(f\"Iteration {i+1}: {Delta_x}\")\n",
    "        x = x + Delta_x\n",
    "\n",
    "        if np.linalg.norm(Delta_x, ord=np.inf) < tol:\n",
    "            return x\n",
    "\n",
    "    raise(\"did not converge\")\n"
   ]
  },
  {
   "cell_type": "code",
   "execution_count": 41,
   "metadata": {},
   "outputs": [
    {
     "name": "stdout",
     "output_type": "stream",
     "text": [
      "Iteration 1: [ 0.000361 -0.00449   0.000377]\n",
      "Iteration 2: [ 2.58e-07 -2.15e-06 -3.69e-08]\n",
      "Iteration 3: [ 4.14e-10  2.33e-09 -1.63e-11]\n",
      "Iteration 4: [ 2.39e-13  4.72e-12 -1.99e-14]\n",
      "Solution: [-0.48963874  1.56550785  0.64137696] error: 3.8473145763808318e-16\n"
     ]
    }
   ],
   "source": [
    "A = np.array([[np.pi, np.e, 2.0], [3.0, 5.0, 1.0], [1.0, 1.0, 3.0]])\n",
    "b = np.array([4.0, 7.0, 3.0])\n",
    "\n",
    "x = iterative_refinement_r3(A, b)\n",
    "\n",
    "print(\"Solution:\", x, \"error:\", np.linalg.norm(x - np.linalg.solve(A, b))/np.linalg.norm(x))"
   ]
  },
  {
   "cell_type": "code",
   "execution_count": 37,
   "metadata": {},
   "outputs": [],
   "source": [
    "\n"
   ]
  },
  {
   "cell_type": "code",
   "execution_count": null,
   "metadata": {},
   "outputs": [],
   "source": []
  }
 ],
 "metadata": {
  "kernelspec": {
   "display_name": "Python 3",
   "language": "python",
   "name": "python3"
  },
  "language_info": {
   "codemirror_mode": {
    "name": "ipython",
    "version": 3
   },
   "file_extension": ".py",
   "mimetype": "text/x-python",
   "name": "python",
   "nbconvert_exporter": "python",
   "pygments_lexer": "ipython3",
   "version": "3.10.12"
  }
 },
 "nbformat": 4,
 "nbformat_minor": 2
}
