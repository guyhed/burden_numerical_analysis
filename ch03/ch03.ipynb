{
 "cells": [
  {
   "cell_type": "code",
   "execution_count": 1,
   "metadata": {},
   "outputs": [],
   "source": [
    "import numpy as np\n",
    "from newton_divided_difference import main as div_diff\n"
   ]
  },
  {
   "cell_type": "code",
   "execution_count": 3,
   "metadata": {},
   "outputs": [
    {
     "name": "stdout",
     "output_type": "stream",
     "text": [
      "This is Newton's Divided-Difference Formula.\n",
      "Please enter the values for the points x0, x1,..., xn: \n",
      "Please enter the function values f(xi) at the points x0, x1,..., xn: \n",
      "F[0][0] = 1.0\n",
      "F[1][1] = 0.0\n",
      "F[2][2] = 1.0\n",
      "F[3][3] = -1.0\n"
     ]
    }
   ],
   "source": [
    "div_diff()\n"
   ]
  },
  {
   "cell_type": "code",
   "execution_count": 4,
   "metadata": {},
   "outputs": [],
   "source": [
    "x = np.arange(0,1,0.1)\n",
    "y = np.cos(2*x)\n"
   ]
  },
  {
   "cell_type": "code",
   "execution_count": 18,
   "metadata": {},
   "outputs": [],
   "source": [
    "F = []\n",
    "n = len(x)-1\n",
    "\n",
    "for i in range(n):\n",
    "    F.append([None for j in range(n)])\n",
    "\n",
    "for j in range(n):\n",
    "      F[j][0] = y[j]\n",
    "\n",
    "for i in range(1, n):\n",
    "      for j in range(1, i+1):\n",
    "        F[i][j] = (F[i][j-1] - F[i-1][j-1]) / (x[i] - x[i-j])"
   ]
  },
  {
   "cell_type": "code",
   "execution_count": 23,
   "metadata": {},
   "outputs": [
    {
     "name": "stdout",
     "output_type": "stream",
     "text": [
      "----\n",
      "F[0][0] = 1.0\n",
      "F[1][0] = 0.9800665778412416\n",
      "F[2][0] = 0.9210609940028851\n",
      "F[3][0] = 0.8253356149096782\n",
      "F[4][0] = 0.6967067093471654\n",
      "F[5][0] = 0.5403023058681398\n",
      "F[6][0] = 0.3623577544766734\n",
      "F[7][0] = 0.16996714290024081\n",
      "F[8][0] = -0.029199522301288815\n",
      "----\n",
      "F[1][1] = -0.19933422158758374\n",
      "F[2][1] = -0.5900558383835652\n",
      "F[3][1] = -0.9572537909320685\n",
      "F[4][1] = -1.2862890556251285\n",
      "F[5][1] = -1.5640440347902567\n",
      "F[6][1] = -1.779445513914662\n",
      "F[7][1] = -1.9239061157643262\n",
      "F[8][1] = -1.9916666520152966\n",
      "----\n",
      "F[2][2] = -1.9536080839799075\n",
      "F[3][2] = -1.8359897627425161\n",
      "F[4][2] = -1.6451763234652999\n",
      "F[5][2] = -1.388774895825641\n",
      "F[6][2] = -1.0770073956220267\n",
      "F[7][2] = -0.7223030092483205\n",
      "F[8][2] = -0.33880268125485175\n",
      "----\n",
      "F[3][3] = 0.3920610707913045\n",
      "F[4][3] = 0.6360447975907209\n",
      "F[5][3] = 0.8546714254655297\n",
      "F[6][3] = 1.0392250006787138\n",
      "F[7][3] = 1.1823479545790208\n",
      "F[8][3] = 1.2783344266448955\n",
      "----\n",
      "F[4][4] = 0.6099593169985409\n",
      "F[5][4] = 0.546566569687022\n",
      "F[6][4] = 0.4613839380329603\n",
      "F[7][4] = 0.35780738475076734\n",
      "F[8][4] = 0.23996618016468685\n",
      "----\n",
      "F[5][5] = -0.1267854946230378\n",
      "F[6][5] = -0.17036526330812338\n",
      "F[7][5] = -0.2071531065643859\n",
      "F[8][5] = -0.235682409172161\n",
      "----\n",
      "F[6][6] = -0.07263294780847597\n",
      "F[7][6] = -0.06131307209377087\n",
      "F[8][6] = -0.04754883767962514\n",
      "----\n",
      "F[7][7] = 0.016171251021007284\n",
      "F[8][7] = 0.019663192020208185\n",
      "----\n",
      "F[8][8] = 0.004364926249001127\n"
     ]
    }
   ],
   "source": [
    "for j in range(n):\n",
    "      print('----')\n",
    "      for i in range(j, n):\n",
    "        print(\"F[{}][{}] = {}\".format(i, j, F[i][j]))"
   ]
  },
  {
   "cell_type": "code",
   "execution_count": null,
   "metadata": {},
   "outputs": [],
   "source": []
  }
 ],
 "metadata": {
  "kernelspec": {
   "display_name": "Python 3",
   "language": "python",
   "name": "python3"
  },
  "language_info": {
   "codemirror_mode": {
    "name": "ipython",
    "version": 3
   },
   "file_extension": ".py",
   "mimetype": "text/x-python",
   "name": "python",
   "nbconvert_exporter": "python",
   "pygments_lexer": "ipython3",
   "version": "3.10.12"
  }
 },
 "nbformat": 4,
 "nbformat_minor": 2
}
